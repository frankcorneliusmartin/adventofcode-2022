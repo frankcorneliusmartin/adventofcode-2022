{
 "cells": [
  {
   "attachments": {},
   "cell_type": "markdown",
   "metadata": {},
   "source": [
    "# --- Day 2: Rock Paper Scissors ---\n",
    "The Elves begin to set up camp on the beach. To decide whose tent gets to be closest to the snack storage, a giant Rock Paper Scissors tournament is already in progress.\n",
    "\n",
    "Rock Paper Scissors is a game between two players. Each game contains many rounds; in each round, the players each simultaneously choose one of Rock, Paper, or Scissors using a hand shape. Then, a winner for that round is selected: Rock defeats Scissors, Scissors defeats Paper, and Paper defeats Rock. If both players choose the same shape, the round instead ends in a draw.\n",
    "\n",
    "Appreciative of your help yesterday, one Elf gives you an encrypted strategy guide (your puzzle input) that they say will be sure to help you win. \"The first column is what your opponent is going to play: A for Rock, B for Paper, and C for Scissors. The second column--\" Suddenly, the Elf is called away to help with someone's tent.\n",
    "\n",
    "The second column, you reason, must be what you should play in response: X for Rock, Y for Paper, and Z for Scissors. Winning every time would be suspicious, so the responses must have been carefully chosen.\n",
    "\n",
    "The winner of the whole tournament is the player with the highest score. Your total score is the sum of your scores for each round. The score for a single round is the score for the shape you selected (1 for Rock, 2 for Paper, and 3 for Scissors) plus the score for the outcome of the round (0 if you lost, 3 if the round was a draw, and 6 if you won).\n",
    "\n",
    "Since you can't be sure if the Elf is trying to help you or trick you, you should calculate the score you would get if you were to follow the strategy guide.\n",
    "\n",
    "For example, suppose you were given the following strategy guide:\n",
    "```\n",
    "A Y\n",
    "B X\n",
    "C Z\n",
    "```\n",
    "This strategy guide predicts and recommends the following:\n",
    "\n",
    "In the first round, your opponent will choose Rock (A), and you should choose Paper (Y). This ends in a win for you with a score of 8 (2 because you chose Paper + 6 because you won).\n",
    "In the second round, your opponent will choose Paper (B), and you should choose Rock (X). This ends in a loss for you with a score of 1 (1 + 0).\n",
    "The third round is a draw with both players choosing Scissors, giving you a score of 3 + 3 = 6.\n",
    "In this example, if you were to follow the strategy guide, you would get a total score of 15 (8 + 1 + 6)."
   ]
  },
  {
   "attachments": {},
   "cell_type": "markdown",
   "metadata": {},
   "source": [
    "## Part One\n",
    "What would your total score be if everything goes exactly according to your strategy guide?"
   ]
  },
  {
   "cell_type": "code",
   "execution_count": 3,
   "metadata": {},
   "outputs": [],
   "source": [
    "with open(\"./day2_input.txt\") as f:\n",
    "    lines = f.read()"
   ]
  },
  {
   "cell_type": "code",
   "execution_count": 2,
   "metadata": {},
   "outputs": [
    {
     "name": "stdout",
     "output_type": "stream",
     "text": [
      "Your score is 17189\n"
     ]
    }
   ],
   "source": [
    "score = 0\n",
    "for line in lines.split(\"\\n\"):\n",
    "    o, y = line.split(\" \") # opponent, your move\n",
    "    score += {'X': 1, 'Y': 2, 'Z': 3}[y]\n",
    "    \n",
    "    # draw\n",
    "    if (o == \"A\" and y == 'X') or \\\n",
    "       (o == \"B\" and y == 'Y') or \\\n",
    "       (o == \"C\" and y == 'Z'):\n",
    "        score += 3\n",
    "\n",
    "    # win\n",
    "    if (o == \"A\" and y == 'Y') or \\\n",
    "       (o == \"B\" and y == 'Z') or \\\n",
    "       (o == \"C\" and y == 'X'):\n",
    "        score += 6\n",
    "\n",
    "print(f'Your score is {score}')"
   ]
  },
  {
   "cell_type": "code",
   "execution_count": 39,
   "metadata": {},
   "outputs": [],
   "source": [
    "def get_score(lines: list, scores: dict) -> int:\n",
    "    score = 0\n",
    "    for line in lines:\n",
    "        o, y = line.split(\" \") # opponent, your move\n",
    "        score += scores[y]\n",
    "        score += scores[o+y]\n",
    "    return score"
   ]
  },
  {
   "cell_type": "code",
   "execution_count": 28,
   "metadata": {},
   "outputs": [
    {
     "name": "stdout",
     "output_type": "stream",
     "text": [
      "Your score is 17189\n"
     ]
    }
   ],
   "source": [
    "# alternative solution\n",
    "score = 0\n",
    "scores = {'AZ': 0,'BX': 0,'CY': 0,'AX': 3,'BY': 3,'CZ': 3,'AY': 6,\n",
    "          'BZ': 6,'CX': 6, 'X': 1, 'Y': 2, 'Z': 3}\n",
    "\n",
    "score = get_score(lines.split(\"\\n\"), scores)\n",
    "    \n",
    "print(f'Your score is {score}')"
   ]
  },
  {
   "attachments": {},
   "cell_type": "markdown",
   "metadata": {},
   "source": [
    "## --- Part Two ---\n",
    "The Elf finishes helping with the tent and sneaks back over to you. \"Anyway, the second column says how the round needs to end: X means you need to lose, Y means you need to end the round in a draw, and Z means you need to win. Good luck!\"\n",
    "\n",
    "The total score is still calculated in the same way, but now you need to figure out what shape to choose so the round ends as indicated. The example above now goes like this:\n",
    "\n",
    "In the first round, your opponent will choose Rock (A), and you need the round to end in a draw (Y), so you also choose Rock. This gives you a score of 1 + 3 = 4.\n",
    "In the second round, your opponent will choose Paper (B), and you choose Rock so you lose (X) with a score of 1 + 0 = 1.\n",
    "In the third round, you will defeat your opponent's Scissors with Rock for a score of 1 + 6 = 7.\n",
    "Now that you're correctly decrypting the ultra top secret strategy guide, you would get a total score of 12.\n",
    "\n",
    "Following the Elf's instructions for the second column, what would your total score be if everything goes exactly according to your strategy guide?"
   ]
  },
  {
   "cell_type": "code",
   "execution_count": 10,
   "metadata": {},
   "outputs": [],
   "source": [
    "with open(\"./day2_input.txt\") as f:\n",
    "    lines = f.read()"
   ]
  },
  {
   "cell_type": "code",
   "execution_count": 31,
   "metadata": {},
   "outputs": [],
   "source": [
    "y = {'X': 1, 'Y': 2, 'Z': 3}\n",
    "scores = {'X': 0,       'Y': 3,      'Z': 6,       # lose, draw, win \n",
    "          'AX': y['Z'], 'BX': y['X'], 'CX': y['Y'], # win -> your hand\n",
    "          'AY': y['X'], 'BY': y['Y'], 'CY': y['Z'], # draw -> your hand\n",
    "          'AZ': y['Y'], 'BZ': y['Z'], 'CZ': y['X']}  # win -> your hand"
   ]
  },
  {
   "cell_type": "code",
   "execution_count": 41,
   "metadata": {},
   "outputs": [
    {
     "name": "stdout",
     "output_type": "stream",
     "text": [
      "Your score is 13490\n"
     ]
    }
   ],
   "source": [
    "score = get_score(lines.split(\"\\n\"), scores)\n",
    "print(f'Your score is {score}')"
   ]
  }
 ],
 "metadata": {
  "kernelspec": {
   "display_name": "ascii",
   "language": "python",
   "name": "python3"
  },
  "language_info": {
   "codemirror_mode": {
    "name": "ipython",
    "version": 3
   },
   "file_extension": ".py",
   "mimetype": "text/x-python",
   "name": "python",
   "nbconvert_exporter": "python",
   "pygments_lexer": "ipython3",
   "version": "3.10.8"
  },
  "orig_nbformat": 4,
  "vscode": {
   "interpreter": {
    "hash": "6bc6aca755e1f3fc7844eed63fde84c98941a0a2f4c696d95dbadbc04eeb41b7"
   }
  }
 },
 "nbformat": 4,
 "nbformat_minor": 2
}
